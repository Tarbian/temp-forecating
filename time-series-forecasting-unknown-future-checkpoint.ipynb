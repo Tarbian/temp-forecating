{
 "cells": [
  {
   "cell_type": "code",
   "execution_count": 5,
   "metadata": {
    "_cell_guid": "b1076dfc-b9ad-4769-8c92-a6c4dae69d19",
    "_uuid": "8f2839f25d086af736a60e9eeb907d3b93b6e0e5",
    "execution": {
     "iopub.execute_input": "2022-03-29T13:54:59.490234Z",
     "iopub.status.busy": "2022-03-29T13:54:59.489899Z",
     "iopub.status.idle": "2022-03-29T13:55:03.426241Z",
     "shell.execute_reply": "2022-03-29T13:55:03.425277Z",
     "shell.execute_reply.started": "2022-03-29T13:54:59.490173Z"
    }
   },
   "outputs": [],
   "source": [
    "import numpy as np \n",
    "import pandas as pd\n",
    "import matplotlib.pyplot as plt\n",
    "from keras.models import Sequential\n",
    "import matplotlib.patches as mpatches\n",
    "from keras.layers import Dense\n",
    "from keras.layers import Dropout\n",
    "from keras.layers import LSTM\n",
    "from sklearn.preprocessing import MinMaxScaler\n",
    "from sklearn.metrics import mean_squared_error\n",
    "import os"
   ]
  },
  {
   "cell_type": "code",
   "execution_count": 6,
   "metadata": {
    "_cell_guid": "79c7e3d0-c299-4dcb-8224-4455121ee9b0",
    "_uuid": "d629ff2d2480ee46fbb7e2d37f6b5fab8052498a",
    "execution": {
     "iopub.execute_input": "2022-03-29T13:55:03.430436Z",
     "iopub.status.busy": "2022-03-29T13:55:03.429846Z",
     "iopub.status.idle": "2022-03-29T13:55:03.746506Z",
     "shell.execute_reply": "2022-03-29T13:55:03.745629Z",
     "shell.execute_reply.started": "2022-03-29T13:55:03.430367Z"
    }
   },
   "outputs": [],
   "source": [
    "data = pd.read_csv('testset.csv')"
   ]
  },
  {
   "cell_type": "code",
   "execution_count": 7,
   "metadata": {
    "_uuid": "afd0bb4e08f18a3e914b6e2c74d2e2deae8667fb",
    "execution": {
     "iopub.execute_input": "2022-03-29T13:55:03.748748Z",
     "iopub.status.busy": "2022-03-29T13:55:03.748410Z",
     "iopub.status.idle": "2022-03-29T13:55:03.758948Z",
     "shell.execute_reply": "2022-03-29T13:55:03.757941Z",
     "shell.execute_reply.started": "2022-03-29T13:55:03.748689Z"
    }
   },
   "outputs": [
    {
     "data": {
      "text/plain": [
       "Index(['datetime_utc', ' _conds', ' _dewptm', ' _fog', ' _hail',\n",
       "       ' _heatindexm', ' _hum', ' _precipm', ' _pressurem', ' _rain', ' _snow',\n",
       "       ' _tempm', ' _thunder', ' _tornado', ' _vism', ' _wdird', ' _wdire',\n",
       "       ' _wgustm', ' _windchillm', ' _wspdm'],\n",
       "      dtype='object')"
      ]
     },
     "execution_count": 7,
     "metadata": {},
     "output_type": "execute_result"
    }
   ],
   "source": [
    "data.columns"
   ]
  },
  {
   "cell_type": "code",
   "execution_count": 8,
   "metadata": {
    "execution": {
     "iopub.execute_input": "2022-03-29T13:55:03.761248Z",
     "iopub.status.busy": "2022-03-29T13:55:03.760514Z",
     "iopub.status.idle": "2022-03-29T13:55:03.803844Z",
     "shell.execute_reply": "2022-03-29T13:55:03.802734Z",
     "shell.execute_reply.started": "2022-03-29T13:55:03.761184Z"
    }
   },
   "outputs": [
    {
     "data": {
      "text/html": [
       "<div>\n",
       "<style scoped>\n",
       "    .dataframe tbody tr th:only-of-type {\n",
       "        vertical-align: middle;\n",
       "    }\n",
       "\n",
       "    .dataframe tbody tr th {\n",
       "        vertical-align: top;\n",
       "    }\n",
       "\n",
       "    .dataframe thead th {\n",
       "        text-align: right;\n",
       "    }\n",
       "</style>\n",
       "<table border=\"1\" class=\"dataframe\">\n",
       "  <thead>\n",
       "    <tr style=\"text-align: right;\">\n",
       "      <th></th>\n",
       "      <th>datetime_utc</th>\n",
       "      <th>_conds</th>\n",
       "      <th>_dewptm</th>\n",
       "      <th>_fog</th>\n",
       "      <th>_hail</th>\n",
       "      <th>_heatindexm</th>\n",
       "      <th>_hum</th>\n",
       "      <th>_precipm</th>\n",
       "      <th>_pressurem</th>\n",
       "      <th>_rain</th>\n",
       "      <th>_snow</th>\n",
       "      <th>_tempm</th>\n",
       "      <th>_thunder</th>\n",
       "      <th>_tornado</th>\n",
       "      <th>_vism</th>\n",
       "      <th>_wdird</th>\n",
       "      <th>_wdire</th>\n",
       "      <th>_wgustm</th>\n",
       "      <th>_windchillm</th>\n",
       "      <th>_wspdm</th>\n",
       "    </tr>\n",
       "  </thead>\n",
       "  <tbody>\n",
       "    <tr>\n",
       "      <th>0</th>\n",
       "      <td>19961101-11:00</td>\n",
       "      <td>Smoke</td>\n",
       "      <td>9.0</td>\n",
       "      <td>0</td>\n",
       "      <td>0</td>\n",
       "      <td>NaN</td>\n",
       "      <td>27.0</td>\n",
       "      <td>NaN</td>\n",
       "      <td>1010.0</td>\n",
       "      <td>0</td>\n",
       "      <td>0</td>\n",
       "      <td>30.0</td>\n",
       "      <td>0</td>\n",
       "      <td>0</td>\n",
       "      <td>5.0</td>\n",
       "      <td>280.0</td>\n",
       "      <td>West</td>\n",
       "      <td>NaN</td>\n",
       "      <td>NaN</td>\n",
       "      <td>7.4</td>\n",
       "    </tr>\n",
       "    <tr>\n",
       "      <th>1</th>\n",
       "      <td>19961101-12:00</td>\n",
       "      <td>Smoke</td>\n",
       "      <td>10.0</td>\n",
       "      <td>0</td>\n",
       "      <td>0</td>\n",
       "      <td>NaN</td>\n",
       "      <td>32.0</td>\n",
       "      <td>NaN</td>\n",
       "      <td>-9999.0</td>\n",
       "      <td>0</td>\n",
       "      <td>0</td>\n",
       "      <td>28.0</td>\n",
       "      <td>0</td>\n",
       "      <td>0</td>\n",
       "      <td>NaN</td>\n",
       "      <td>0.0</td>\n",
       "      <td>North</td>\n",
       "      <td>NaN</td>\n",
       "      <td>NaN</td>\n",
       "      <td>NaN</td>\n",
       "    </tr>\n",
       "    <tr>\n",
       "      <th>2</th>\n",
       "      <td>19961101-13:00</td>\n",
       "      <td>Smoke</td>\n",
       "      <td>11.0</td>\n",
       "      <td>0</td>\n",
       "      <td>0</td>\n",
       "      <td>NaN</td>\n",
       "      <td>44.0</td>\n",
       "      <td>NaN</td>\n",
       "      <td>-9999.0</td>\n",
       "      <td>0</td>\n",
       "      <td>0</td>\n",
       "      <td>24.0</td>\n",
       "      <td>0</td>\n",
       "      <td>0</td>\n",
       "      <td>NaN</td>\n",
       "      <td>0.0</td>\n",
       "      <td>North</td>\n",
       "      <td>NaN</td>\n",
       "      <td>NaN</td>\n",
       "      <td>NaN</td>\n",
       "    </tr>\n",
       "    <tr>\n",
       "      <th>3</th>\n",
       "      <td>19961101-14:00</td>\n",
       "      <td>Smoke</td>\n",
       "      <td>10.0</td>\n",
       "      <td>0</td>\n",
       "      <td>0</td>\n",
       "      <td>NaN</td>\n",
       "      <td>41.0</td>\n",
       "      <td>NaN</td>\n",
       "      <td>1010.0</td>\n",
       "      <td>0</td>\n",
       "      <td>0</td>\n",
       "      <td>24.0</td>\n",
       "      <td>0</td>\n",
       "      <td>0</td>\n",
       "      <td>2.0</td>\n",
       "      <td>0.0</td>\n",
       "      <td>North</td>\n",
       "      <td>NaN</td>\n",
       "      <td>NaN</td>\n",
       "      <td>NaN</td>\n",
       "    </tr>\n",
       "    <tr>\n",
       "      <th>4</th>\n",
       "      <td>19961101-16:00</td>\n",
       "      <td>Smoke</td>\n",
       "      <td>11.0</td>\n",
       "      <td>0</td>\n",
       "      <td>0</td>\n",
       "      <td>NaN</td>\n",
       "      <td>47.0</td>\n",
       "      <td>NaN</td>\n",
       "      <td>1011.0</td>\n",
       "      <td>0</td>\n",
       "      <td>0</td>\n",
       "      <td>23.0</td>\n",
       "      <td>0</td>\n",
       "      <td>0</td>\n",
       "      <td>1.2</td>\n",
       "      <td>0.0</td>\n",
       "      <td>North</td>\n",
       "      <td>NaN</td>\n",
       "      <td>NaN</td>\n",
       "      <td>0.0</td>\n",
       "    </tr>\n",
       "  </tbody>\n",
       "</table>\n",
       "</div>"
      ],
      "text/plain": [
       "     datetime_utc  _conds   _dewptm   _fog   _hail   _heatindexm   _hum  \\\n",
       "0  19961101-11:00   Smoke       9.0      0       0           NaN   27.0   \n",
       "1  19961101-12:00   Smoke      10.0      0       0           NaN   32.0   \n",
       "2  19961101-13:00   Smoke      11.0      0       0           NaN   44.0   \n",
       "3  19961101-14:00   Smoke      10.0      0       0           NaN   41.0   \n",
       "4  19961101-16:00   Smoke      11.0      0       0           NaN   47.0   \n",
       "\n",
       "    _precipm   _pressurem   _rain   _snow   _tempm   _thunder   _tornado  \\\n",
       "0        NaN       1010.0       0       0     30.0          0          0   \n",
       "1        NaN      -9999.0       0       0     28.0          0          0   \n",
       "2        NaN      -9999.0       0       0     24.0          0          0   \n",
       "3        NaN       1010.0       0       0     24.0          0          0   \n",
       "4        NaN       1011.0       0       0     23.0          0          0   \n",
       "\n",
       "    _vism   _wdird  _wdire   _wgustm   _windchillm   _wspdm  \n",
       "0     5.0    280.0    West       NaN           NaN      7.4  \n",
       "1     NaN      0.0   North       NaN           NaN      NaN  \n",
       "2     NaN      0.0   North       NaN           NaN      NaN  \n",
       "3     2.0      0.0   North       NaN           NaN      NaN  \n",
       "4     1.2      0.0   North       NaN           NaN      0.0  "
      ]
     },
     "execution_count": 8,
     "metadata": {},
     "output_type": "execute_result"
    }
   ],
   "source": [
    "data.head()"
   ]
  },
  {
   "cell_type": "code",
   "execution_count": 9,
   "metadata": {
    "execution": {
     "iopub.execute_input": "2022-03-29T13:55:03.808485Z",
     "iopub.status.busy": "2022-03-29T13:55:03.808128Z",
     "iopub.status.idle": "2022-03-29T13:55:16.780702Z",
     "shell.execute_reply": "2022-03-29T13:55:16.779872Z",
     "shell.execute_reply.started": "2022-03-29T13:55:03.808419Z"
    }
   },
   "outputs": [
    {
     "name": "stderr",
     "output_type": "stream",
     "text": [
      "/tmp/ipykernel_6866/578026386.py:3: FutureWarning: The default value of numeric_only in DataFrameGroupBy.mean is deprecated. In a future version, numeric_only will default to False. Either specify numeric_only or select only columns which should be valid for the function.\n",
      "  data =data.resample('D').mean()\n"
     ]
    }
   ],
   "source": [
    "data['datetime_utc'] = pd.to_datetime(data['datetime_utc'])\n",
    "data.set_index('datetime_utc', inplace= True)\n",
    "data =data.resample('D').mean()"
   ]
  },
  {
   "cell_type": "code",
   "execution_count": 10,
   "metadata": {
    "_uuid": "7b04a0793c9bbecb929f04bc4e63b304ebc5f6b9",
    "execution": {
     "iopub.execute_input": "2022-03-29T13:55:16.783003Z",
     "iopub.status.busy": "2022-03-29T13:55:16.782625Z",
     "iopub.status.idle": "2022-03-29T13:55:16.790696Z",
     "shell.execute_reply": "2022-03-29T13:55:16.789594Z",
     "shell.execute_reply.started": "2022-03-29T13:55:16.782947Z"
    }
   },
   "outputs": [],
   "source": [
    "data = data[[' _tempm' ]]"
   ]
  },
  {
   "cell_type": "code",
   "execution_count": 11,
   "metadata": {
    "_uuid": "771efe7601c1f41a5e2904bdf4cce40fdf4bf15c",
    "execution": {
     "iopub.execute_input": "2022-03-29T13:55:16.793050Z",
     "iopub.status.busy": "2022-03-29T13:55:16.792409Z",
     "iopub.status.idle": "2022-03-29T13:55:16.808787Z",
     "shell.execute_reply": "2022-03-29T13:55:16.807703Z",
     "shell.execute_reply.started": "2022-03-29T13:55:16.792985Z"
    }
   },
   "outputs": [
    {
     "name": "stdout",
     "output_type": "stream",
     "text": [
      "<class 'pandas.core.frame.DataFrame'>\n",
      "DatetimeIndex: 7480 entries, 1996-11-01 to 2017-04-24\n",
      "Freq: D\n",
      "Data columns (total 1 columns):\n",
      " #   Column   Non-Null Count  Dtype  \n",
      "---  ------   --------------  -----  \n",
      " 0    _tempm  7336 non-null   float64\n",
      "dtypes: float64(1)\n",
      "memory usage: 116.9 KB\n"
     ]
    }
   ],
   "source": [
    "data.info()"
   ]
  },
  {
   "cell_type": "code",
   "execution_count": 12,
   "metadata": {
    "execution": {
     "iopub.execute_input": "2022-03-29T13:55:16.811276Z",
     "iopub.status.busy": "2022-03-29T13:55:16.810628Z",
     "iopub.status.idle": "2022-03-29T13:55:16.817803Z",
     "shell.execute_reply": "2022-03-29T13:55:16.816807Z",
     "shell.execute_reply.started": "2022-03-29T13:55:16.811214Z"
    }
   },
   "outputs": [],
   "source": [
    "from scipy.interpolate import interp1d\n"
   ]
  },
  {
   "cell_type": "code",
   "execution_count": 13,
   "metadata": {
    "execution": {
     "iopub.execute_input": "2022-03-29T13:55:16.820898Z",
     "iopub.status.busy": "2022-03-29T13:55:16.819972Z",
     "iopub.status.idle": "2022-03-29T13:55:16.832151Z",
     "shell.execute_reply": "2022-03-29T13:55:16.831227Z",
     "shell.execute_reply.started": "2022-03-29T13:55:16.820832Z"
    }
   },
   "outputs": [],
   "source": [
    "data[' _tempm'] = data[' _tempm'].interpolate()# we will fill the null row"
   ]
  },
  {
   "cell_type": "code",
   "execution_count": 14,
   "metadata": {
    "_uuid": "75321aaf2a1ca05f361fbbece0b2d41392d36936",
    "execution": {
     "iopub.execute_input": "2022-03-29T13:55:16.834746Z",
     "iopub.status.busy": "2022-03-29T13:55:16.834125Z",
     "iopub.status.idle": "2022-03-29T13:55:16.846901Z",
     "shell.execute_reply": "2022-03-29T13:55:16.845334Z",
     "shell.execute_reply.started": "2022-03-29T13:55:16.834685Z"
    }
   },
   "outputs": [
    {
     "name": "stdout",
     "output_type": "stream",
     "text": [
      "<class 'pandas.core.frame.DataFrame'>\n",
      "DatetimeIndex: 7480 entries, 1996-11-01 to 2017-04-24\n",
      "Freq: D\n",
      "Data columns (total 1 columns):\n",
      " #   Column   Non-Null Count  Dtype  \n",
      "---  ------   --------------  -----  \n",
      " 0    _tempm  7480 non-null   float64\n",
      "dtypes: float64(1)\n",
      "memory usage: 116.9 KB\n"
     ]
    }
   ],
   "source": [
    "data.info()"
   ]
  },
  {
   "cell_type": "code",
   "execution_count": 15,
   "metadata": {
    "_uuid": "6b3e52971888c1c4e8168fbbf1800d69b19a778b",
    "execution": {
     "iopub.execute_input": "2022-03-29T13:55:16.849258Z",
     "iopub.status.busy": "2022-03-29T13:55:16.848605Z",
     "iopub.status.idle": "2022-03-29T13:55:16.863393Z",
     "shell.execute_reply": "2022-03-29T13:55:16.862157Z",
     "shell.execute_reply.started": "2022-03-29T13:55:16.849198Z"
    }
   },
   "outputs": [
    {
     "data": {
      "text/html": [
       "<div>\n",
       "<style scoped>\n",
       "    .dataframe tbody tr th:only-of-type {\n",
       "        vertical-align: middle;\n",
       "    }\n",
       "\n",
       "    .dataframe tbody tr th {\n",
       "        vertical-align: top;\n",
       "    }\n",
       "\n",
       "    .dataframe thead th {\n",
       "        text-align: right;\n",
       "    }\n",
       "</style>\n",
       "<table border=\"1\" class=\"dataframe\">\n",
       "  <thead>\n",
       "    <tr style=\"text-align: right;\">\n",
       "      <th></th>\n",
       "      <th>_tempm</th>\n",
       "    </tr>\n",
       "    <tr>\n",
       "      <th>datetime_utc</th>\n",
       "      <th></th>\n",
       "    </tr>\n",
       "  </thead>\n",
       "  <tbody>\n",
       "    <tr>\n",
       "      <th>1996-11-01</th>\n",
       "      <td>22.333333</td>\n",
       "    </tr>\n",
       "    <tr>\n",
       "      <th>1996-11-02</th>\n",
       "      <td>22.916667</td>\n",
       "    </tr>\n",
       "    <tr>\n",
       "      <th>1996-11-03</th>\n",
       "      <td>21.791667</td>\n",
       "    </tr>\n",
       "    <tr>\n",
       "      <th>1996-11-04</th>\n",
       "      <td>22.722222</td>\n",
       "    </tr>\n",
       "    <tr>\n",
       "      <th>1996-11-05</th>\n",
       "      <td>27.800000</td>\n",
       "    </tr>\n",
       "  </tbody>\n",
       "</table>\n",
       "</div>"
      ],
      "text/plain": [
       "                 _tempm\n",
       "datetime_utc           \n",
       "1996-11-01    22.333333\n",
       "1996-11-02    22.916667\n",
       "1996-11-03    21.791667\n",
       "1996-11-04    22.722222\n",
       "1996-11-05    27.800000"
      ]
     },
     "execution_count": 15,
     "metadata": {},
     "output_type": "execute_result"
    }
   ],
   "source": [
    "data.head()"
   ]
  },
  {
   "cell_type": "code",
   "execution_count": 16,
   "metadata": {
    "execution": {
     "iopub.execute_input": "2022-03-29T13:55:16.865817Z",
     "iopub.status.busy": "2022-03-29T13:55:16.865127Z",
     "iopub.status.idle": "2022-03-29T13:55:16.871460Z",
     "shell.execute_reply": "2022-03-29T13:55:16.870299Z",
     "shell.execute_reply.started": "2022-03-29T13:55:16.865725Z"
    }
   },
   "outputs": [],
   "source": [
    "df = data.copy()"
   ]
  },
  {
   "cell_type": "code",
   "execution_count": 17,
   "metadata": {
    "_uuid": "906d73914e4ac772c18b1b0d86903eac50e8e83a",
    "execution": {
     "iopub.execute_input": "2022-03-29T13:55:16.874479Z",
     "iopub.status.busy": "2022-03-29T13:55:16.873641Z",
     "iopub.status.idle": "2022-03-29T13:55:17.219791Z",
     "shell.execute_reply": "2022-03-29T13:55:17.217912Z",
     "shell.execute_reply.started": "2022-03-29T13:55:16.874326Z"
    }
   },
   "outputs": [
    {
     "data": {
      "image/png": "[encoded data removed]",
      "text/plain": [
       "<Figure size 1440x576 with 1 Axes>"
      ]
     },
     "metadata": {
      "needs_background": "light"
     },
     "output_type": "display_data"
    }
   ],
   "source": [
    "plt.figure(figsize=(20,8))\n",
    "plt.plot(data)\n",
    "plt.title('Time Series')\n",
    "plt.xlabel('Date')\n",
    "plt.ylabel('temperature')\n",
    "plt.show()"
   ]
  },
  {
   "cell_type": "code",
   "execution_count": 18,
   "metadata": {
    "_uuid": "34bc98899a2afe4848d6e3f4aefe773fd4c120c6",
    "execution": {
     "iopub.execute_input": "2022-03-29T13:55:17.221534Z",
     "iopub.status.busy": "2022-03-29T13:55:17.221232Z",
     "iopub.status.idle": "2022-03-29T13:55:17.227494Z",
     "shell.execute_reply": "2022-03-29T13:55:17.226470Z",
     "shell.execute_reply.started": "2022-03-29T13:55:17.221484Z"
    }
   },
   "outputs": [],
   "source": [
    "# data=data.values\n",
    "data = data.astype('float32')"
   ]
  },
  {
   "cell_type": "code",
   "execution_count": 19,
   "metadata": {
    "_uuid": "d3346c34bf4dae64663470d1db97549bde5f3eb4",
    "execution": {
     "iopub.execute_input": "2022-03-29T13:55:17.229965Z",
     "iopub.status.busy": "2022-03-29T13:55:17.229147Z",
     "iopub.status.idle": "2022-03-29T13:55:17.239657Z",
     "shell.execute_reply": "2022-03-29T13:55:17.238408Z",
     "shell.execute_reply.started": "2022-03-29T13:55:17.229905Z"
    }
   },
   "outputs": [],
   "source": [
    "scaler= MinMaxScaler(feature_range=(-1,1))\n",
    "sc = scaler.fit_transform(data)"
   ]
  },
  {
   "cell_type": "code",
   "execution_count": 20,
   "metadata": {
    "execution": {
     "iopub.execute_input": "2022-03-29T13:55:41.114389Z",
     "iopub.status.busy": "2022-03-29T13:55:41.114048Z",
     "iopub.status.idle": "2022-03-29T13:55:41.122302Z",
     "shell.execute_reply": "2022-03-29T13:55:41.121023Z",
     "shell.execute_reply.started": "2022-03-29T13:55:41.114316Z"
    }
   },
   "outputs": [
    {
     "data": {
      "text/plain": [
       "array([[-0.07224715],\n",
       "       [-0.03911316],\n",
       "       [-0.10301447],\n",
       "       ...,\n",
       "       [ 0.5279522 ],\n",
       "       [ 0.5265322 ],\n",
       "       [ 0.47683108]], dtype=float32)"
      ]
     },
     "execution_count": 20,
     "metadata": {},
     "output_type": "execute_result"
    }
   ],
   "source": [
    "sc"
   ]
  },
  {
   "cell_type": "code",
   "execution_count": 21,
   "metadata": {
    "_uuid": "aa16b48563ec2b30ba612817c73e44d382629042",
    "execution": {
     "iopub.execute_input": "2022-03-29T14:02:38.619592Z",
     "iopub.status.busy": "2022-03-29T14:02:38.619234Z",
     "iopub.status.idle": "2022-03-29T14:02:38.654029Z",
     "shell.execute_reply": "2022-03-29T14:02:38.652987Z",
     "shell.execute_reply.started": "2022-03-29T14:02:38.619520Z"
    }
   },
   "outputs": [],
   "source": [
    "timestep = 30\n",
    "\n",
    "X= []\n",
    "Y=[]\n",
    "\n",
    "\n",
    "for i in range(len(sc)- (timestep)):\n",
    "    X.append(sc[i:i+timestep])\n",
    "    Y.append(sc[i+timestep])\n",
    "\n",
    "\n",
    "X=np.asanyarray(X)\n",
    "Y=np.asanyarray(Y)\n",
    "\n",
    "\n",
    "k = 7300\n",
    "Xtrain = X[:k,:,:]\n",
    "Xtest = X[k:,:,:]    \n",
    "Ytrain = Y[:k]    \n",
    "Ytest= Y[k:]   "
   ]
  },
  {
   "cell_type": "code",
   "execution_count": 22,
   "metadata": {
    "_uuid": "8d50ff68690b3b6ef137ef52a8229b427ac7f3e2",
    "execution": {
     "iopub.execute_input": "2022-03-29T14:02:39.243451Z",
     "iopub.status.busy": "2022-03-29T14:02:39.243109Z",
     "iopub.status.idle": "2022-03-29T14:02:39.250029Z",
     "shell.execute_reply": "2022-03-29T14:02:39.248860Z",
     "shell.execute_reply.started": "2022-03-29T14:02:39.243389Z"
    }
   },
   "outputs": [
    {
     "name": "stdout",
     "output_type": "stream",
     "text": [
      "(7300, 30, 1)\n",
      "(150, 30, 1)\n"
     ]
    }
   ],
   "source": [
    "print(Xtrain.shape)\n",
    "print(Xtest.shape)"
   ]
  },
  {
   "cell_type": "markdown",
   "metadata": {},
   "source": [
    " # LSTM Model"
   ]
  },
  {
   "cell_type": "code",
   "execution_count": 23,
   "metadata": {
    "execution": {
     "iopub.execute_input": "2022-03-29T14:03:19.641207Z",
     "iopub.status.busy": "2022-03-29T14:03:19.640886Z",
     "iopub.status.idle": "2022-03-29T14:03:20.522459Z",
     "shell.execute_reply": "2022-03-29T14:03:20.521538Z",
     "shell.execute_reply.started": "2022-03-29T14:03:19.641149Z"
    }
   },
   "outputs": [
    {
     "name": "stderr",
     "output_type": "stream",
     "text": [
      "2023-06-14 08:38:59.544517: I tensorflow/compiler/xla/stream_executor/cuda/cuda_gpu_executor.cc:996] successful NUMA node read from SysFS had negative value (-1), but there must be at least one NUMA node, so returning NUMA node zero. See more at https://github.com/torvalds/linux/blob/v6.0/Documentation/ABI/testing/sysfs-bus-pci#L344-L355\n",
      "2023-06-14 08:38:59.545568: W tensorflow/core/common_runtime/gpu/gpu_device.cc:1956] Cannot dlopen some GPU libraries. Please make sure the missing libraries mentioned above are installed properly if you would like to use GPU. Follow the guide at https://www.tensorflow.org/install/gpu for how to download and setup the required libraries for your platform.\n",
      "Skipping registering GPU devices...\n"
     ]
    }
   ],
   "source": [
    "model = Sequential()\n",
    "\n",
    "model.add(LSTM(32,activation = 'relu', input_shape= (30,1), return_sequences=True))\n",
    "model.add(LSTM(32, activation='relu', return_sequences=True))\n",
    "model.add(LSTM(32, activation='sigmoid', return_sequences=False))\n",
    "model.add(Dense(1))\n",
    "model.compile(optimizer='adam', loss='mse')"
   ]
  },
  {
   "cell_type": "code",
   "execution_count": 24,
   "metadata": {
    "execution": {
     "iopub.execute_input": "2022-03-29T14:03:29.052550Z",
     "iopub.status.busy": "2022-03-29T14:03:29.052165Z",
     "iopub.status.idle": "2022-03-29T14:03:29.065942Z",
     "shell.execute_reply": "2022-03-29T14:03:29.064703Z",
     "shell.execute_reply.started": "2022-03-29T14:03:29.052478Z"
    }
   },
   "outputs": [
    {
     "name": "stdout",
     "output_type": "stream",
     "text": [
      "Model: \"sequential\"\n",
      "_________________________________________________________________\n",
      " Layer (type)                Output Shape              Param #   \n",
      "=================================================================\n",
      " lstm (LSTM)                 (None, 30, 32)            4352      \n",
      "                                                                 \n",
      " lstm_1 (LSTM)               (None, 30, 32)            8320      \n",
      "                                                                 \n",
      " lstm_2 (LSTM)               (None, 32)                8320      \n",
      "                                                                 \n",
      " dense (Dense)               (None, 1)                 33        \n",
      "                                                                 \n",
      "=================================================================\n",
      "Total params: 21,025\n",
      "Trainable params: 21,025\n",
      "Non-trainable params: 0\n",
      "_________________________________________________________________\n"
     ]
    }
   ],
   "source": [
    "model.summary()"
   ]
  },
  {
   "cell_type": "code",
   "execution_count": 25,
   "metadata": {
    "execution": {
     "iopub.execute_input": "2022-03-29T14:03:42.004415Z",
     "iopub.status.busy": "2022-03-29T14:03:42.004054Z",
     "iopub.status.idle": "2022-03-29T14:13:37.988665Z",
     "shell.execute_reply": "2022-03-29T14:13:37.987057Z",
     "shell.execute_reply.started": "2022-03-29T14:03:42.004351Z"
    }
   },
   "outputs": [
    {
     "name": "stdout",
     "output_type": "stream",
     "text": [
      "Epoch 1/50\n",
      "229/229 [==============================] - 8s 22ms/step - loss: 0.0384\n",
      "Epoch 2/50\n",
      "229/229 [==============================] - 6s 26ms/step - loss: 0.0156\n",
      "Epoch 3/50\n",
      "229/229 [==============================] - 7s 29ms/step - loss: 0.0119\n",
      "Epoch 4/50\n",
      "229/229 [==============================] - 6s 26ms/step - loss: 0.0105\n",
      "Epoch 5/50\n",
      "229/229 [==============================] - 6s 25ms/step - loss: 0.0095\n",
      "Epoch 6/50\n",
      "229/229 [==============================] - 6s 26ms/step - loss: 0.0094\n",
      "Epoch 7/50\n",
      "229/229 [==============================] - 6s 25ms/step - loss: 0.0092\n",
      "Epoch 8/50\n",
      "229/229 [==============================] - 6s 25ms/step - loss: 0.0090\n",
      "Epoch 9/50\n",
      "229/229 [==============================] - 6s 26ms/step - loss: 0.0097\n",
      "Epoch 10/50\n",
      "229/229 [==============================] - 6s 27ms/step - loss: 0.0090\n",
      "Epoch 11/50\n",
      "229/229 [==============================] - 9s 41ms/step - loss: 0.0090\n",
      "Epoch 12/50\n",
      "229/229 [==============================] - 11s 47ms/step - loss: 0.0092\n",
      "Epoch 13/50\n",
      "229/229 [==============================] - 11s 48ms/step - loss: 0.0092\n",
      "Epoch 14/50\n",
      "229/229 [==============================] - 10s 44ms/step - loss: 0.0092\n",
      "Epoch 15/50\n",
      "229/229 [==============================] - 6s 28ms/step - loss: 0.0090\n",
      "Epoch 16/50\n",
      "229/229 [==============================] - 7s 31ms/step - loss: 0.0092\n",
      "Epoch 17/50\n",
      "229/229 [==============================] - 6s 26ms/step - loss: 0.0089\n",
      "Epoch 18/50\n",
      "229/229 [==============================] - 6s 26ms/step - loss: 0.0090\n",
      "Epoch 19/50\n",
      "229/229 [==============================] - 6s 25ms/step - loss: 0.0089\n",
      "Epoch 20/50\n",
      "229/229 [==============================] - 6s 25ms/step - loss: 0.0090\n",
      "Epoch 21/50\n",
      "229/229 [==============================] - 6s 25ms/step - loss: 0.0090\n",
      "Epoch 22/50\n",
      "229/229 [==============================] - 6s 25ms/step - loss: 0.0091\n",
      "Epoch 23/50\n",
      "229/229 [==============================] - 6s 25ms/step - loss: 0.0090\n",
      "Epoch 24/50\n",
      "229/229 [==============================] - 6s 25ms/step - loss: 0.0089\n",
      "Epoch 25/50\n",
      "229/229 [==============================] - 6s 26ms/step - loss: 0.0088\n",
      "Epoch 26/50\n",
      "229/229 [==============================] - 6s 25ms/step - loss: 0.0092\n",
      "Epoch 27/50\n",
      "229/229 [==============================] - 5s 24ms/step - loss: 0.0088\n",
      "Epoch 28/50\n",
      "229/229 [==============================] - 6s 28ms/step - loss: 0.0088\n",
      "Epoch 29/50\n",
      "229/229 [==============================] - 6s 28ms/step - loss: 0.0088\n",
      "Epoch 30/50\n",
      "229/229 [==============================] - 6s 25ms/step - loss: 0.0087\n",
      "Epoch 31/50\n",
      "229/229 [==============================] - 6s 25ms/step - loss: 0.0091\n",
      "Epoch 32/50\n",
      "229/229 [==============================] - 6s 25ms/step - loss: 0.0088\n",
      "Epoch 33/50\n",
      "229/229 [==============================] - 6s 27ms/step - loss: 0.0088\n",
      "Epoch 34/50\n",
      "229/229 [==============================] - 6s 27ms/step - loss: 0.0088\n",
      "Epoch 35/50\n",
      "229/229 [==============================] - 6s 25ms/step - loss: 0.0088\n",
      "Epoch 36/50\n",
      "229/229 [==============================] - 6s 26ms/step - loss: 0.0089\n",
      "Epoch 37/50\n",
      "229/229 [==============================] - 6s 25ms/step - loss: 0.0088\n",
      "Epoch 38/50\n",
      "229/229 [==============================] - 6s 25ms/step - loss: 0.0088\n",
      "Epoch 39/50\n",
      "229/229 [==============================] - 7s 30ms/step - loss: 0.0088\n",
      "Epoch 40/50\n",
      "229/229 [==============================] - 7s 31ms/step - loss: 0.0088\n",
      "Epoch 41/50\n",
      "229/229 [==============================] - 7s 30ms/step - loss: 0.0087\n",
      "Epoch 42/50\n",
      "229/229 [==============================] - 6s 27ms/step - loss: 0.0089\n",
      "Epoch 43/50\n",
      "229/229 [==============================] - 8s 34ms/step - loss: 0.0087\n",
      "Epoch 44/50\n",
      "229/229 [==============================] - 8s 33ms/step - loss: 0.0088\n",
      "Epoch 45/50\n",
      "229/229 [==============================] - 8s 33ms/step - loss: 0.0089\n",
      "Epoch 46/50\n",
      "229/229 [==============================] - 8s 34ms/step - loss: 0.0087\n",
      "Epoch 47/50\n",
      "229/229 [==============================] - 8s 34ms/step - loss: 0.0088\n",
      "Epoch 48/50\n",
      "229/229 [==============================] - 9s 38ms/step - loss: 0.0086\n",
      "Epoch 49/50\n",
      "229/229 [==============================] - 7s 31ms/step - loss: 0.0087\n",
      "Epoch 50/50\n",
      "229/229 [==============================] - 6s 27ms/step - loss: 0.0087\n"
     ]
    }
   ],
   "source": [
    "history = model.fit(Xtrain,Ytrain,epochs=50, verbose=1)"
   ]
  },
  {
   "cell_type": "code",
   "execution_count": 26,
   "metadata": {
    "execution": {
     "iopub.execute_input": "2022-03-29T14:13:42.569309Z",
     "iopub.status.busy": "2022-03-29T14:13:42.568986Z",
     "iopub.status.idle": "2022-03-29T14:13:42.601352Z",
     "shell.execute_reply": "2022-03-29T14:13:42.599667Z",
     "shell.execute_reply.started": "2022-03-29T14:13:42.569249Z"
    }
   },
   "outputs": [
    {
     "data": {
      "text/plain": [
       "Text(0.5, 1.0, 'Model Accuracy')"
      ]
     },
     "execution_count": 26,
     "metadata": {},
     "output_type": "execute_result"
    },
    {
     "data": {
      "image/png": "[encoded data removed]",
      "text/plain": [
       "<Figure size 576x360 with 1 Axes>"
      ]
     },
     "metadata": {
      "needs_background": "light"
     },
     "output_type": "display_data"
    }
   ],
   "source": [
    "plt.figure(figsize=(8,5))\n",
    "plt.plot(history.history['loss'])\n",
    "plt.xlabel(\"Epochs\")\n",
    "plt.ylabel(\"Loss\")\n",
    "plt.title(\"Model Accuracy\")"
   ]
  },
  {
   "cell_type": "code",
   "execution_count": 27,
   "metadata": {
    "execution": {
     "iopub.execute_input": "2022-03-29T14:13:50.062132Z",
     "iopub.status.busy": "2022-03-29T14:13:50.061795Z",
     "iopub.status.idle": "2022-03-29T14:13:50.069183Z",
     "shell.execute_reply": "2022-03-29T14:13:50.068117Z",
     "shell.execute_reply.started": "2022-03-29T14:13:50.062072Z"
    }
   },
   "outputs": [
    {
     "data": {
      "text/plain": [
       "<keras.engine.sequential.Sequential at 0x7f1a9ce8bd60>"
      ]
     },
     "execution_count": 27,
     "metadata": {},
     "output_type": "execute_result"
    }
   ],
   "source": [
    "model"
   ]
  },
  {
   "cell_type": "code",
   "execution_count": 28,
   "metadata": {
    "_uuid": "d167243e575f5ba9ca5d8f636f66464e5dcb075f",
    "execution": {
     "iopub.execute_input": "2022-03-29T14:13:52.791520Z",
     "iopub.status.busy": "2022-03-29T14:13:52.791076Z",
     "iopub.status.idle": "2022-03-29T14:13:53.304972Z",
     "shell.execute_reply": "2022-03-29T14:13:53.303864Z",
     "shell.execute_reply.started": "2022-03-29T14:13:52.791456Z"
    }
   },
   "outputs": [
    {
     "name": "stdout",
     "output_type": "stream",
     "text": [
      "5/5 [==============================] - 0s 7ms/step\n"
     ]
    },
    {
     "data": {
      "text/plain": [
       "2.969012"
      ]
     },
     "execution_count": 28,
     "metadata": {},
     "output_type": "execute_result"
    }
   ],
   "source": [
    "preds= model.predict(Xtest)\n",
    "preds = scaler.inverse_transform(preds)\n",
    "\n",
    "\n",
    "Ytest=np.asanyarray(Ytest)  \n",
    "Ytest=Ytest.reshape(-1,1) \n",
    "Ytest = scaler.inverse_transform(Ytest)\n",
    "\n",
    "\n",
    "Ytrain=np.asanyarray(Ytrain)  \n",
    "Ytrain=Ytrain.reshape(-1,1) \n",
    "Ytrain = scaler.inverse_transform(Ytrain)\n",
    "\n",
    "mean_squared_error(Ytest,preds)"
   ]
  },
  {
   "cell_type": "code",
   "execution_count": 29,
   "metadata": {
    "_uuid": "f3b7b5b51f9736eb56dc3417134cbfc7b681105b",
    "execution": {
     "iopub.execute_input": "2022-03-29T14:13:59.267609Z",
     "iopub.status.busy": "2022-03-29T14:13:59.267258Z",
     "iopub.status.idle": "2022-03-29T14:13:59.567131Z",
     "shell.execute_reply": "2022-03-29T14:13:59.565897Z",
     "shell.execute_reply.started": "2022-03-29T14:13:59.267546Z"
    }
   },
   "outputs": [
    {
     "data": {
      "image/png": "[encoded data removed]",
      "text/plain": [
       "<Figure size 1440x648 with 1 Axes>"
      ]
     },
     "metadata": {
      "needs_background": "light"
     },
     "output_type": "display_data"
    }
   ],
   "source": [
    "plt.figure(figsize=(20,9))\n",
    "plt.plot(Ytest , 'blue', linewidth=5)\n",
    "plt.plot(preds,'r' , linewidth=4)\n",
    "plt.legend(('Test','Predicted'))\n",
    "plt.title(\"Temperature Prediction\")\n",
    "plt.show()"
   ]
  },
  {
   "cell_type": "code",
   "execution_count": 30,
   "metadata": {
    "execution": {
     "iopub.execute_input": "2022-03-29T14:14:11.707034Z",
     "iopub.status.busy": "2022-03-29T14:14:11.706652Z",
     "iopub.status.idle": "2022-03-29T14:14:11.713922Z",
     "shell.execute_reply": "2022-03-29T14:14:11.712451Z",
     "shell.execute_reply.started": "2022-03-29T14:14:11.706971Z"
    }
   },
   "outputs": [],
   "source": [
    "test = pd.DataFrame(Ytest,columns=['Actual'])\n",
    "pred = pd.DataFrame(preds,columns=['Predict'])"
   ]
  },
  {
   "cell_type": "code",
   "execution_count": 31,
   "metadata": {
    "execution": {
     "iopub.execute_input": "2022-03-29T14:14:13.435601Z",
     "iopub.status.busy": "2022-03-29T14:14:13.435196Z",
     "iopub.status.idle": "2022-03-29T14:14:13.441982Z",
     "shell.execute_reply": "2022-03-29T14:14:13.440799Z",
     "shell.execute_reply.started": "2022-03-29T14:14:13.435538Z"
    }
   },
   "outputs": [],
   "source": [
    "results = pd.concat([test,pred],axis=1)"
   ]
  },
  {
   "cell_type": "code",
   "execution_count": 32,
   "metadata": {
    "execution": {
     "iopub.execute_input": "2022-03-29T14:14:14.452484Z",
     "iopub.status.busy": "2022-03-29T14:14:14.452113Z",
     "iopub.status.idle": "2022-03-29T14:14:14.466781Z",
     "shell.execute_reply": "2022-03-29T14:14:14.465374Z",
     "shell.execute_reply.started": "2022-03-29T14:14:14.452422Z"
    }
   },
   "outputs": [
    {
     "data": {
      "text/html": [
       "<div>\n",
       "<style scoped>\n",
       "    .dataframe tbody tr th:only-of-type {\n",
       "        vertical-align: middle;\n",
       "    }\n",
       "\n",
       "    .dataframe tbody tr th {\n",
       "        vertical-align: top;\n",
       "    }\n",
       "\n",
       "    .dataframe thead th {\n",
       "        text-align: right;\n",
       "    }\n",
       "</style>\n",
       "<table border=\"1\" class=\"dataframe\">\n",
       "  <thead>\n",
       "    <tr style=\"text-align: right;\">\n",
       "      <th></th>\n",
       "      <th>Actual</th>\n",
       "      <th>Predict</th>\n",
       "    </tr>\n",
       "  </thead>\n",
       "  <tbody>\n",
       "    <tr>\n",
       "      <th>0</th>\n",
       "      <td>24.294117</td>\n",
       "      <td>22.607121</td>\n",
       "    </tr>\n",
       "    <tr>\n",
       "      <th>1</th>\n",
       "      <td>23.636364</td>\n",
       "      <td>23.452068</td>\n",
       "    </tr>\n",
       "    <tr>\n",
       "      <th>2</th>\n",
       "      <td>22.454546</td>\n",
       "      <td>23.254503</td>\n",
       "    </tr>\n",
       "    <tr>\n",
       "      <th>3</th>\n",
       "      <td>21.611111</td>\n",
       "      <td>22.451563</td>\n",
       "    </tr>\n",
       "    <tr>\n",
       "      <th>4</th>\n",
       "      <td>19.869566</td>\n",
       "      <td>21.726988</td>\n",
       "    </tr>\n",
       "    <tr>\n",
       "      <th>5</th>\n",
       "      <td>19.750000</td>\n",
       "      <td>20.358469</td>\n",
       "    </tr>\n",
       "    <tr>\n",
       "      <th>6</th>\n",
       "      <td>19.208334</td>\n",
       "      <td>20.072651</td>\n",
       "    </tr>\n",
       "    <tr>\n",
       "      <th>7</th>\n",
       "      <td>21.208334</td>\n",
       "      <td>19.406391</td>\n",
       "    </tr>\n",
       "    <tr>\n",
       "      <th>8</th>\n",
       "      <td>18.900000</td>\n",
       "      <td>20.755589</td>\n",
       "    </tr>\n",
       "    <tr>\n",
       "      <th>9</th>\n",
       "      <td>18.636364</td>\n",
       "      <td>19.238077</td>\n",
       "    </tr>\n",
       "    <tr>\n",
       "      <th>10</th>\n",
       "      <td>18.538462</td>\n",
       "      <td>18.818335</td>\n",
       "    </tr>\n",
       "    <tr>\n",
       "      <th>11</th>\n",
       "      <td>18.250000</td>\n",
       "      <td>18.500460</td>\n",
       "    </tr>\n",
       "    <tr>\n",
       "      <th>12</th>\n",
       "      <td>16.900000</td>\n",
       "      <td>18.203047</td>\n",
       "    </tr>\n",
       "    <tr>\n",
       "      <th>13</th>\n",
       "      <td>19.416666</td>\n",
       "      <td>17.149651</td>\n",
       "    </tr>\n",
       "    <tr>\n",
       "      <th>14</th>\n",
       "      <td>16.444445</td>\n",
       "      <td>18.643076</td>\n",
       "    </tr>\n",
       "    <tr>\n",
       "      <th>15</th>\n",
       "      <td>20.041668</td>\n",
       "      <td>16.675646</td>\n",
       "    </tr>\n",
       "    <tr>\n",
       "      <th>16</th>\n",
       "      <td>19.909090</td>\n",
       "      <td>18.837759</td>\n",
       "    </tr>\n",
       "    <tr>\n",
       "      <th>17</th>\n",
       "      <td>19.049999</td>\n",
       "      <td>19.049696</td>\n",
       "    </tr>\n",
       "    <tr>\n",
       "      <th>18</th>\n",
       "      <td>18.555555</td>\n",
       "      <td>18.598076</td>\n",
       "    </tr>\n",
       "    <tr>\n",
       "      <th>19</th>\n",
       "      <td>18.166666</td>\n",
       "      <td>18.201431</td>\n",
       "    </tr>\n",
       "  </tbody>\n",
       "</table>\n",
       "</div>"
      ],
      "text/plain": [
       "       Actual    Predict\n",
       "0   24.294117  22.607121\n",
       "1   23.636364  23.452068\n",
       "2   22.454546  23.254503\n",
       "3   21.611111  22.451563\n",
       "4   19.869566  21.726988\n",
       "5   19.750000  20.358469\n",
       "6   19.208334  20.072651\n",
       "7   21.208334  19.406391\n",
       "8   18.900000  20.755589\n",
       "9   18.636364  19.238077\n",
       "10  18.538462  18.818335\n",
       "11  18.250000  18.500460\n",
       "12  16.900000  18.203047\n",
       "13  19.416666  17.149651\n",
       "14  16.444445  18.643076\n",
       "15  20.041668  16.675646\n",
       "16  19.909090  18.837759\n",
       "17  19.049999  19.049696\n",
       "18  18.555555  18.598076\n",
       "19  18.166666  18.201431"
      ]
     },
     "execution_count": 32,
     "metadata": {},
     "output_type": "execute_result"
    }
   ],
   "source": [
    "results.head(20)"
   ]
  },
  {
   "cell_type": "code",
   "execution_count": 35,
   "metadata": {
    "_uuid": "18375b865c02e57fac3ffbf50cd81fcf0d9ad491",
    "execution": {
     "iopub.execute_input": "2022-03-29T14:16:58.777066Z",
     "iopub.status.busy": "2022-03-29T14:16:58.776672Z",
     "iopub.status.idle": "2022-03-29T14:16:58.784037Z",
     "shell.execute_reply": "2022-03-29T14:16:58.782936Z",
     "shell.execute_reply.started": "2022-03-29T14:16:58.777001Z"
    }
   },
   "outputs": [],
   "source": [
    "def insert_end(Xin,new_input):\n",
    "    #print ('Before: \\n', Xin , new_input )\n",
    "    for i in range(timestep-1):\n",
    "        Xin[:,i,:] = Xin[:,i+1,:]\n",
    "    Xin[:,timestep-1,:] = new_input\n",
    "    #print ('After :\\n', Xin)\n",
    "    return Xin\n"
   ]
  },
  {
   "cell_type": "code",
   "execution_count": 36,
   "metadata": {
    "execution": {
     "iopub.execute_input": "2022-03-29T14:16:59.564099Z",
     "iopub.status.busy": "2022-03-29T14:16:59.563730Z",
     "iopub.status.idle": "2022-03-29T14:16:59.579883Z",
     "shell.execute_reply": "2022-03-29T14:16:59.578660Z",
     "shell.execute_reply.started": "2022-03-29T14:16:59.564038Z"
    }
   },
   "outputs": [
    {
     "data": {
      "text/html": [
       "<div>\n",
       "<style scoped>\n",
       "    .dataframe tbody tr th:only-of-type {\n",
       "        vertical-align: middle;\n",
       "    }\n",
       "\n",
       "    .dataframe tbody tr th {\n",
       "        vertical-align: top;\n",
       "    }\n",
       "\n",
       "    .dataframe thead th {\n",
       "        text-align: right;\n",
       "    }\n",
       "</style>\n",
       "<table border=\"1\" class=\"dataframe\">\n",
       "  <thead>\n",
       "    <tr style=\"text-align: right;\">\n",
       "      <th></th>\n",
       "      <th>_tempm</th>\n",
       "    </tr>\n",
       "    <tr>\n",
       "      <th>datetime_utc</th>\n",
       "      <th></th>\n",
       "    </tr>\n",
       "  </thead>\n",
       "  <tbody>\n",
       "    <tr>\n",
       "      <th>1996-11-01</th>\n",
       "      <td>22.333333</td>\n",
       "    </tr>\n",
       "    <tr>\n",
       "      <th>1996-11-02</th>\n",
       "      <td>22.916667</td>\n",
       "    </tr>\n",
       "    <tr>\n",
       "      <th>1996-11-03</th>\n",
       "      <td>21.791667</td>\n",
       "    </tr>\n",
       "    <tr>\n",
       "      <th>1996-11-04</th>\n",
       "      <td>22.722222</td>\n",
       "    </tr>\n",
       "    <tr>\n",
       "      <th>1996-11-05</th>\n",
       "      <td>27.800000</td>\n",
       "    </tr>\n",
       "    <tr>\n",
       "      <th>...</th>\n",
       "      <td>...</td>\n",
       "    </tr>\n",
       "    <tr>\n",
       "      <th>2017-04-20</th>\n",
       "      <td>34.500000</td>\n",
       "    </tr>\n",
       "    <tr>\n",
       "      <th>2017-04-21</th>\n",
       "      <td>34.250000</td>\n",
       "    </tr>\n",
       "    <tr>\n",
       "      <th>2017-04-22</th>\n",
       "      <td>32.900000</td>\n",
       "    </tr>\n",
       "    <tr>\n",
       "      <th>2017-04-23</th>\n",
       "      <td>32.875000</td>\n",
       "    </tr>\n",
       "    <tr>\n",
       "      <th>2017-04-24</th>\n",
       "      <td>32.000000</td>\n",
       "    </tr>\n",
       "  </tbody>\n",
       "</table>\n",
       "<p>7480 rows × 1 columns</p>\n",
       "</div>"
      ],
      "text/plain": [
       "                 _tempm\n",
       "datetime_utc           \n",
       "1996-11-01    22.333333\n",
       "1996-11-02    22.916667\n",
       "1996-11-03    21.791667\n",
       "1996-11-04    22.722222\n",
       "1996-11-05    27.800000\n",
       "...                 ...\n",
       "2017-04-20    34.500000\n",
       "2017-04-21    34.250000\n",
       "2017-04-22    32.900000\n",
       "2017-04-23    32.875000\n",
       "2017-04-24    32.000000\n",
       "\n",
       "[7480 rows x 1 columns]"
      ]
     },
     "execution_count": 36,
     "metadata": {},
     "output_type": "execute_result"
    }
   ],
   "source": [
    "df"
   ]
  },
  {
   "cell_type": "code",
   "execution_count": 44,
   "metadata": {
    "_uuid": "5d7ce0e19f85cda2140ea3ad41dbee571af5bf23",
    "execution": {
     "iopub.execute_input": "2022-03-29T14:19:04.155118Z",
     "iopub.status.busy": "2022-03-29T14:19:04.154686Z",
     "iopub.status.idle": "2022-03-29T14:19:05.778462Z",
     "shell.execute_reply": "2022-03-29T14:19:05.777554Z",
     "shell.execute_reply.started": "2022-03-29T14:19:04.155054Z"
    },
    "jupyter": {
     "outputs_hidden": true
    }
   },
   "outputs": [
    {
     "name": "stdout",
     "output_type": "stream",
     "text": [
      "1/1 [==============================] - 0s 31ms/step\n",
      "[0.49456027]\n",
      "1/1 [==============================] - 0s 20ms/step\n",
      "[0.49456027, 0.4942237]\n",
      "1/1 [==============================] - 0s 21ms/step\n",
      "[0.49456027, 0.4942237, 0.49387768]\n",
      "1/1 [==============================] - 0s 21ms/step\n",
      "[0.49456027, 0.4942237, 0.49387768, 0.49354327]\n",
      "1/1 [==============================] - 0s 21ms/step\n",
      "[0.49456027, 0.4942237, 0.49387768, 0.49354327, 0.4932264]\n",
      "1/1 [==============================] - 0s 20ms/step\n",
      "[0.49456027, 0.4942237, 0.49387768, 0.49354327, 0.4932264, 0.4929229]\n",
      "1/1 [==============================] - 0s 22ms/step\n",
      "[0.49456027, 0.4942237, 0.49387768, 0.49354327, 0.4932264, 0.4929229, 0.49262512]\n",
      "1/1 [==============================] - 0s 24ms/step\n",
      "[0.49456027, 0.4942237, 0.49387768, 0.49354327, 0.4932264, 0.4929229, 0.49262512, 0.49232513]\n",
      "1/1 [==============================] - 0s 20ms/step\n",
      "[0.49456027, 0.4942237, 0.49387768, 0.49354327, 0.4932264, 0.4929229, 0.49262512, 0.49232513, 0.49201113]\n",
      "1/1 [==============================] - 0s 20ms/step\n",
      "[0.49456027, 0.4942237, 0.49387768, 0.49354327, 0.4932264, 0.4929229, 0.49262512, 0.49232513, 0.49201113, 0.4916743]\n",
      "1/1 [==============================] - 0s 21ms/step\n",
      "[0.49456027, 0.4942237, 0.49387768, 0.49354327, 0.4932264, 0.4929229, 0.49262512, 0.49232513, 0.49201113, 0.4916743, 0.49134442]\n",
      "1/1 [==============================] - 0s 22ms/step\n",
      "[0.49456027, 0.4942237, 0.49387768, 0.49354327, 0.4932264, 0.4929229, 0.49262512, 0.49232513, 0.49201113, 0.4916743, 0.49134442, 0.49103373]\n",
      "1/1 [==============================] - 0s 21ms/step\n",
      "[0.49456027, 0.4942237, 0.49387768, 0.49354327, 0.4932264, 0.4929229, 0.49262512, 0.49232513, 0.49201113, 0.4916743, 0.49134442, 0.49103373, 0.49073684]\n",
      "1/1 [==============================] - 0s 20ms/step\n",
      "[0.49456027, 0.4942237, 0.49387768, 0.49354327, 0.4932264, 0.4929229, 0.49262512, 0.49232513, 0.49201113, 0.4916743, 0.49134442, 0.49103373, 0.49073684, 0.4904305]\n",
      "1/1 [==============================] - 0s 20ms/step\n",
      "[0.49456027, 0.4942237, 0.49387768, 0.49354327, 0.4932264, 0.4929229, 0.49262512, 0.49232513, 0.49201113, 0.4916743, 0.49134442, 0.49103373, 0.49073684, 0.4904305, 0.49012744]\n",
      "1/1 [==============================] - 0s 21ms/step\n",
      "[0.49456027, 0.4942237, 0.49387768, 0.49354327, 0.4932264, 0.4929229, 0.49262512, 0.49232513, 0.49201113, 0.4916743, 0.49134442, 0.49103373, 0.49073684, 0.4904305, 0.49012744, 0.4898258]\n",
      "1/1 [==============================] - 0s 20ms/step\n",
      "[0.49456027, 0.4942237, 0.49387768, 0.49354327, 0.4932264, 0.4929229, 0.49262512, 0.49232513, 0.49201113, 0.4916743, 0.49134442, 0.49103373, 0.49073684, 0.4904305, 0.49012744, 0.4898258, 0.48952717]\n",
      "1/1 [==============================] - 0s 20ms/step\n",
      "[0.49456027, 0.4942237, 0.49387768, 0.49354327, 0.4932264, 0.4929229, 0.49262512, 0.49232513, 0.49201113, 0.4916743, 0.49134442, 0.49103373, 0.49073684, 0.4904305, 0.49012744, 0.4898258, 0.48952717, 0.48923492]\n",
      "1/1 [==============================] - 0s 20ms/step\n",
      "[0.49456027, 0.4942237, 0.49387768, 0.49354327, 0.4932264, 0.4929229, 0.49262512, 0.49232513, 0.49201113, 0.4916743, 0.49134442, 0.49103373, 0.49073684, 0.4904305, 0.49012744, 0.4898258, 0.48952717, 0.48923492, 0.48895052]\n",
      "1/1 [==============================] - 0s 21ms/step\n",
      "[0.49456027, 0.4942237, 0.49387768, 0.49354327, 0.4932264, 0.4929229, 0.49262512, 0.49232513, 0.49201113, 0.4916743, 0.49134442, 0.49103373, 0.49073684, 0.4904305, 0.49012744, 0.4898258, 0.48952717, 0.48923492, 0.48895052, 0.4886726]\n",
      "1/1 [==============================] - 0s 29ms/step\n",
      "[0.49456027, 0.4942237, 0.49387768, 0.49354327, 0.4932264, 0.4929229, 0.49262512, 0.49232513, 0.49201113, 0.4916743, 0.49134442, 0.49103373, 0.49073684, 0.4904305, 0.49012744, 0.4898258, 0.48952717, 0.48923492, 0.48895052, 0.4886726, 0.4883995]\n",
      "1/1 [==============================] - 0s 20ms/step\n",
      "[0.49456027, 0.4942237, 0.49387768, 0.49354327, 0.4932264, 0.4929229, 0.49262512, 0.49232513, 0.49201113, 0.4916743, 0.49134442, 0.49103373, 0.49073684, 0.4904305, 0.49012744, 0.4898258, 0.48952717, 0.48923492, 0.48895052, 0.4886726, 0.4883995, 0.48813096]\n",
      "1/1 [==============================] - 0s 20ms/step\n",
      "[0.49456027, 0.4942237, 0.49387768, 0.49354327, 0.4932264, 0.4929229, 0.49262512, 0.49232513, 0.49201113, 0.4916743, 0.49134442, 0.49103373, 0.49073684, 0.4904305, 0.49012744, 0.4898258, 0.48952717, 0.48923492, 0.48895052, 0.4886726, 0.4883995, 0.48813096, 0.487867]\n",
      "1/1 [==============================] - 0s 20ms/step\n",
      "[0.49456027, 0.4942237, 0.49387768, 0.49354327, 0.4932264, 0.4929229, 0.49262512, 0.49232513, 0.49201113, 0.4916743, 0.49134442, 0.49103373, 0.49073684, 0.4904305, 0.49012744, 0.4898258, 0.48952717, 0.48923492, 0.48895052, 0.4886726, 0.4883995, 0.48813096, 0.487867, 0.48760563]\n",
      "1/1 [==============================] - 0s 20ms/step\n",
      "[0.49456027, 0.4942237, 0.49387768, 0.49354327, 0.4932264, 0.4929229, 0.49262512, 0.49232513, 0.49201113, 0.4916743, 0.49134442, 0.49103373, 0.49073684, 0.4904305, 0.49012744, 0.4898258, 0.48952717, 0.48923492, 0.48895052, 0.4886726, 0.4883995, 0.48813096, 0.487867, 0.48760563, 0.4873483]\n",
      "1/1 [==============================] - 0s 19ms/step\n",
      "[0.49456027, 0.4942237, 0.49387768, 0.49354327, 0.4932264, 0.4929229, 0.49262512, 0.49232513, 0.49201113, 0.4916743, 0.49134442, 0.49103373, 0.49073684, 0.4904305, 0.49012744, 0.4898258, 0.48952717, 0.48923492, 0.48895052, 0.4886726, 0.4883995, 0.48813096, 0.487867, 0.48760563, 0.4873483, 0.4870959]\n",
      "1/1 [==============================] - 0s 18ms/step\n",
      "[0.49456027, 0.4942237, 0.49387768, 0.49354327, 0.4932264, 0.4929229, 0.49262512, 0.49232513, 0.49201113, 0.4916743, 0.49134442, 0.49103373, 0.49073684, 0.4904305, 0.49012744, 0.4898258, 0.48952717, 0.48923492, 0.48895052, 0.4886726, 0.4883995, 0.48813096, 0.487867, 0.48760563, 0.4873483, 0.4870959, 0.4868471]\n",
      "1/1 [==============================] - 0s 21ms/step\n",
      "[0.49456027, 0.4942237, 0.49387768, 0.49354327, 0.4932264, 0.4929229, 0.49262512, 0.49232513, 0.49201113, 0.4916743, 0.49134442, 0.49103373, 0.49073684, 0.4904305, 0.49012744, 0.4898258, 0.48952717, 0.48923492, 0.48895052, 0.4886726, 0.4883995, 0.48813096, 0.487867, 0.48760563, 0.4873483, 0.4870959, 0.4868471, 0.48660207]\n",
      "1/1 [==============================] - 0s 19ms/step\n",
      "[0.49456027, 0.4942237, 0.49387768, 0.49354327, 0.4932264, 0.4929229, 0.49262512, 0.49232513, 0.49201113, 0.4916743, 0.49134442, 0.49103373, 0.49073684, 0.4904305, 0.49012744, 0.4898258, 0.48952717, 0.48923492, 0.48895052, 0.4886726, 0.4883995, 0.48813096, 0.487867, 0.48760563, 0.4873483, 0.4870959, 0.4868471, 0.48660207, 0.48636025]\n",
      "1/1 [==============================] - 0s 23ms/step\n",
      "[0.49456027, 0.4942237, 0.49387768, 0.49354327, 0.4932264, 0.4929229, 0.49262512, 0.49232513, 0.49201113, 0.4916743, 0.49134442, 0.49103373, 0.49073684, 0.4904305, 0.49012744, 0.4898258, 0.48952717, 0.48923492, 0.48895052, 0.4886726, 0.4883995, 0.48813096, 0.487867, 0.48760563, 0.4873483, 0.4870959, 0.4868471, 0.48660207, 0.48636025, 0.4861213]\n"
     ]
    }
   ],
   "source": [
    "from datetime import timedelta\n",
    "future=30\n",
    "forcast = []\n",
    "Xin = Xtest[-1:,:,:]\n",
    "time=[]\n",
    "for i in range(future):\n",
    "    out = model.predict(Xin, batch_size=1)    \n",
    "    forcast.append(out[0,0]) \n",
    "    print(forcast)\n",
    "    Xin = insert_end(Xin,out[0,0]) \n",
    "    time.append(pd.to_datetime(df.index[-1])+timedelta(days=i+1))\n"
   ]
  },
  {
   "cell_type": "code",
   "execution_count": 45,
   "metadata": {
    "_uuid": "8d9936d6e2c09c6afa38c3ee74f8434a09f1e607",
    "execution": {
     "iopub.execute_input": "2022-03-29T14:22:25.742020Z",
     "iopub.status.busy": "2022-03-29T14:22:25.741647Z",
     "iopub.status.idle": "2022-03-29T14:22:25.748030Z",
     "shell.execute_reply": "2022-03-29T14:22:25.746697Z",
     "shell.execute_reply.started": "2022-03-29T14:22:25.741959Z"
    }
   },
   "outputs": [],
   "source": [
    "forcasted_output=np.asanyarray(forcast)   \n",
    "forcasted_output=forcasted_output.reshape(-1,1) \n",
    "forcasted_output = scaler.inverse_transform(forcasted_output) "
   ]
  },
  {
   "cell_type": "code",
   "execution_count": 46,
   "metadata": {
    "execution": {
     "iopub.execute_input": "2022-03-29T14:22:30.676344Z",
     "iopub.status.busy": "2022-03-29T14:22:30.675960Z",
     "iopub.status.idle": "2022-03-29T14:22:30.687325Z",
     "shell.execute_reply": "2022-03-29T14:22:30.686224Z",
     "shell.execute_reply.started": "2022-03-29T14:22:30.676267Z"
    }
   },
   "outputs": [],
   "source": [
    "forcasted_output = pd.DataFrame(forcasted_output)\n",
    "date = pd.DataFrame(time)\n",
    "df_result = pd.concat([date,forcasted_output],axis=1)\n",
    "df_result.columns = \"Date\",\"Forecasted\""
   ]
  },
  {
   "cell_type": "code",
   "execution_count": 47,
   "metadata": {
    "execution": {
     "iopub.execute_input": "2022-03-29T14:22:32.536537Z",
     "iopub.status.busy": "2022-03-29T14:22:32.536090Z",
     "iopub.status.idle": "2022-03-29T14:22:32.551162Z",
     "shell.execute_reply": "2022-03-29T14:22:32.549800Z",
     "shell.execute_reply.started": "2022-03-29T14:22:32.536476Z"
    }
   },
   "outputs": [
    {
     "data": {
      "text/plain": [
       "Index([' _tempm'], dtype='object')"
      ]
     },
     "execution_count": 47,
     "metadata": {},
     "output_type": "execute_result"
    }
   ],
   "source": [
    "df.columns"
   ]
  },
  {
   "cell_type": "code",
   "execution_count": 48,
   "metadata": {
    "execution": {
     "iopub.execute_input": "2022-03-29T14:22:55.114105Z",
     "iopub.status.busy": "2022-03-29T14:22:55.113647Z",
     "iopub.status.idle": "2022-03-29T14:22:55.128052Z",
     "shell.execute_reply": "2022-03-29T14:22:55.126857Z",
     "shell.execute_reply.started": "2022-03-29T14:22:55.114017Z"
    }
   },
   "outputs": [
    {
     "data": {
      "text/html": [
       "<div>\n",
       "<style scoped>\n",
       "    .dataframe tbody tr th:only-of-type {\n",
       "        vertical-align: middle;\n",
       "    }\n",
       "\n",
       "    .dataframe tbody tr th {\n",
       "        vertical-align: top;\n",
       "    }\n",
       "\n",
       "    .dataframe thead th {\n",
       "        text-align: right;\n",
       "    }\n",
       "</style>\n",
       "<table border=\"1\" class=\"dataframe\">\n",
       "  <thead>\n",
       "    <tr style=\"text-align: right;\">\n",
       "      <th></th>\n",
       "      <th>Date</th>\n",
       "      <th>Forecasted</th>\n",
       "    </tr>\n",
       "  </thead>\n",
       "  <tbody>\n",
       "    <tr>\n",
       "      <th>0</th>\n",
       "      <td>2017-04-25</td>\n",
       "      <td>32.312126</td>\n",
       "    </tr>\n",
       "    <tr>\n",
       "      <th>1</th>\n",
       "      <td>2017-04-26</td>\n",
       "      <td>32.306202</td>\n",
       "    </tr>\n",
       "    <tr>\n",
       "      <th>2</th>\n",
       "      <td>2017-04-27</td>\n",
       "      <td>32.300110</td>\n",
       "    </tr>\n",
       "    <tr>\n",
       "      <th>3</th>\n",
       "      <td>2017-04-28</td>\n",
       "      <td>32.294224</td>\n",
       "    </tr>\n",
       "    <tr>\n",
       "      <th>4</th>\n",
       "      <td>2017-04-29</td>\n",
       "      <td>32.288643</td>\n",
       "    </tr>\n",
       "    <tr>\n",
       "      <th>5</th>\n",
       "      <td>2017-04-30</td>\n",
       "      <td>32.283302</td>\n",
       "    </tr>\n",
       "    <tr>\n",
       "      <th>6</th>\n",
       "      <td>2017-05-01</td>\n",
       "      <td>32.278057</td>\n",
       "    </tr>\n",
       "    <tr>\n",
       "      <th>7</th>\n",
       "      <td>2017-05-02</td>\n",
       "      <td>32.272778</td>\n",
       "    </tr>\n",
       "    <tr>\n",
       "      <th>8</th>\n",
       "      <td>2017-05-03</td>\n",
       "      <td>32.267246</td>\n",
       "    </tr>\n",
       "    <tr>\n",
       "      <th>9</th>\n",
       "      <td>2017-05-04</td>\n",
       "      <td>32.261318</td>\n",
       "    </tr>\n",
       "    <tr>\n",
       "      <th>10</th>\n",
       "      <td>2017-05-05</td>\n",
       "      <td>32.255512</td>\n",
       "    </tr>\n",
       "    <tr>\n",
       "      <th>11</th>\n",
       "      <td>2017-05-06</td>\n",
       "      <td>32.250042</td>\n",
       "    </tr>\n",
       "    <tr>\n",
       "      <th>12</th>\n",
       "      <td>2017-05-07</td>\n",
       "      <td>32.244816</td>\n",
       "    </tr>\n",
       "    <tr>\n",
       "      <th>13</th>\n",
       "      <td>2017-05-08</td>\n",
       "      <td>32.239422</td>\n",
       "    </tr>\n",
       "    <tr>\n",
       "      <th>14</th>\n",
       "      <td>2017-05-09</td>\n",
       "      <td>32.234085</td>\n",
       "    </tr>\n",
       "    <tr>\n",
       "      <th>15</th>\n",
       "      <td>2017-05-10</td>\n",
       "      <td>32.228775</td>\n",
       "    </tr>\n",
       "    <tr>\n",
       "      <th>16</th>\n",
       "      <td>2017-05-11</td>\n",
       "      <td>32.223518</td>\n",
       "    </tr>\n",
       "    <tr>\n",
       "      <th>17</th>\n",
       "      <td>2017-05-12</td>\n",
       "      <td>32.218372</td>\n",
       "    </tr>\n",
       "    <tr>\n",
       "      <th>18</th>\n",
       "      <td>2017-05-13</td>\n",
       "      <td>32.213364</td>\n",
       "    </tr>\n",
       "    <tr>\n",
       "      <th>19</th>\n",
       "      <td>2017-05-14</td>\n",
       "      <td>32.208473</td>\n",
       "    </tr>\n",
       "    <tr>\n",
       "      <th>20</th>\n",
       "      <td>2017-05-15</td>\n",
       "      <td>32.203667</td>\n",
       "    </tr>\n",
       "    <tr>\n",
       "      <th>21</th>\n",
       "      <td>2017-05-16</td>\n",
       "      <td>32.198936</td>\n",
       "    </tr>\n",
       "    <tr>\n",
       "      <th>22</th>\n",
       "      <td>2017-05-17</td>\n",
       "      <td>32.194290</td>\n",
       "    </tr>\n",
       "    <tr>\n",
       "      <th>23</th>\n",
       "      <td>2017-05-18</td>\n",
       "      <td>32.189690</td>\n",
       "    </tr>\n",
       "    <tr>\n",
       "      <th>24</th>\n",
       "      <td>2017-05-19</td>\n",
       "      <td>32.185158</td>\n",
       "    </tr>\n",
       "    <tr>\n",
       "      <th>25</th>\n",
       "      <td>2017-05-20</td>\n",
       "      <td>32.180714</td>\n",
       "    </tr>\n",
       "    <tr>\n",
       "      <th>26</th>\n",
       "      <td>2017-05-21</td>\n",
       "      <td>32.176334</td>\n",
       "    </tr>\n",
       "    <tr>\n",
       "      <th>27</th>\n",
       "      <td>2017-05-22</td>\n",
       "      <td>32.172020</td>\n",
       "    </tr>\n",
       "    <tr>\n",
       "      <th>28</th>\n",
       "      <td>2017-05-23</td>\n",
       "      <td>32.167763</td>\n",
       "    </tr>\n",
       "    <tr>\n",
       "      <th>29</th>\n",
       "      <td>2017-05-24</td>\n",
       "      <td>32.163555</td>\n",
       "    </tr>\n",
       "  </tbody>\n",
       "</table>\n",
       "</div>"
      ],
      "text/plain": [
       "         Date  Forecasted\n",
       "0  2017-04-25   32.312126\n",
       "1  2017-04-26   32.306202\n",
       "2  2017-04-27   32.300110\n",
       "3  2017-04-28   32.294224\n",
       "4  2017-04-29   32.288643\n",
       "5  2017-04-30   32.283302\n",
       "6  2017-05-01   32.278057\n",
       "7  2017-05-02   32.272778\n",
       "8  2017-05-03   32.267246\n",
       "9  2017-05-04   32.261318\n",
       "10 2017-05-05   32.255512\n",
       "11 2017-05-06   32.250042\n",
       "12 2017-05-07   32.244816\n",
       "13 2017-05-08   32.239422\n",
       "14 2017-05-09   32.234085\n",
       "15 2017-05-10   32.228775\n",
       "16 2017-05-11   32.223518\n",
       "17 2017-05-12   32.218372\n",
       "18 2017-05-13   32.213364\n",
       "19 2017-05-14   32.208473\n",
       "20 2017-05-15   32.203667\n",
       "21 2017-05-16   32.198936\n",
       "22 2017-05-17   32.194290\n",
       "23 2017-05-18   32.189690\n",
       "24 2017-05-19   32.185158\n",
       "25 2017-05-20   32.180714\n",
       "26 2017-05-21   32.176334\n",
       "27 2017-05-22   32.172020\n",
       "28 2017-05-23   32.167763\n",
       "29 2017-05-24   32.163555"
      ]
     },
     "execution_count": 48,
     "metadata": {},
     "output_type": "execute_result"
    }
   ],
   "source": [
    "df_result"
   ]
  },
  {
   "cell_type": "code",
   "execution_count": 49,
   "metadata": {
    "execution": {
     "iopub.execute_input": "2022-03-29T14:24:14.337039Z",
     "iopub.status.busy": "2022-03-29T14:24:14.336523Z",
     "iopub.status.idle": "2022-03-29T14:24:14.608079Z",
     "shell.execute_reply": "2022-03-29T14:24:14.607089Z",
     "shell.execute_reply.started": "2022-03-29T14:24:14.336959Z"
    }
   },
   "outputs": [
    {
     "data": {
      "text/plain": [
       "[<matplotlib.lines.Line2D at 0x7f1a9012d4e0>]"
      ]
     },
     "execution_count": 49,
     "metadata": {},
     "output_type": "execute_result"
    },
    {
     "data": {
      "image/png": "[encoded data removed]",
      "text/plain": [
       "<Figure size 1152x576 with 1 Axes>"
      ]
     },
     "metadata": {
      "needs_background": "light"
     },
     "output_type": "display_data"
    }
   ],
   "source": [
    "plt.figure(figsize=(16,8))\n",
    "plt.title('Temperature Prediction')\n",
    "plt.xlabel('Date', fontsize=18)\n",
    "plt.ylabel('Temperature' ,fontsize=18)\n",
    "plt.plot(df[' _tempm'][7400:])\n",
    "plt.plot(df_result.set_index('Date')[['Forecasted']],\"r--\")\n"
   ]
  },
  {
   "cell_type": "code",
   "execution_count": null,
   "metadata": {},
   "outputs": [],
   "source": []
  }
 ],
 "metadata": {
  "kernelspec": {
   "display_name": "Python 3 (ipykernel)",
   "language": "python",
   "name": "python3"
  },
  "language_info": {
   "codemirror_mode": {
    "name": "ipython",
    "version": 3
   },
   "file_extension": ".py",
   "mimetype": "text/x-python",
   "name": "python",
   "nbconvert_exporter": "python",
   "pygments_lexer": "ipython3",
   "version": "3.9.12"
  }
 },
 "nbformat": 4,
 "nbformat_minor": 4
}
